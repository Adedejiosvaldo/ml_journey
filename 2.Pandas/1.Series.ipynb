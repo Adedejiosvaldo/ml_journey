{
 "cells": [
  {
   "cell_type": "code",
   "execution_count": 3,
   "id": "94386c56-57e1-45d6-9d51-3e7207407caf",
   "metadata": {},
   "outputs": [],
   "source": [
    "import pandas as pd"
   ]
  },
  {
   "cell_type": "code",
   "execution_count": 4,
   "id": "c14ee272-0f0b-498e-991e-6ae7181507f5",
   "metadata": {},
   "outputs": [],
   "source": [
    "myIndex = [\"USA\", \"Canada\",\"Mexico\"]"
   ]
  },
  {
   "cell_type": "code",
   "execution_count": 6,
   "id": "6a3c7d42-77a8-44eb-b8c5-092f9b423296",
   "metadata": {},
   "outputs": [],
   "source": [
    "mydata = [1990,1991,1992]"
   ]
  },
  {
   "cell_type": "code",
   "execution_count": 8,
   "id": "d5ea6eaa-54b3-4648-af1f-d1f642f4d2f0",
   "metadata": {},
   "outputs": [
    {
     "data": {
      "text/plain": [
       "[1990, 1991, 1992]"
      ]
     },
     "execution_count": 8,
     "metadata": {},
     "output_type": "execute_result"
    }
   ],
   "source": [
    "mydata = [1990,1991,1992]\n",
    "mydata"
   ]
  },
  {
   "cell_type": "code",
   "execution_count": 9,
   "id": "6f7a0270-c0d5-4f59-97da-196445a49cc2",
   "metadata": {},
   "outputs": [
    {
     "data": {
      "text/plain": [
       "USA       1990\n",
       "Canada    1991\n",
       "Mexico    1992\n",
       "dtype: int64"
      ]
     },
     "execution_count": 9,
     "metadata": {},
     "output_type": "execute_result"
    }
   ],
   "source": [
    "mySer = pd.Series(data=mydata,index=myIndex)\n",
    "mySer"
   ]
  },
  {
   "cell_type": "markdown",
   "id": "ac68f148-bdde-463f-bd58-93604be35ad5",
   "metadata": {},
   "source": [
    "#### Creating Series from DICT"
   ]
  },
  {
   "cell_type": "code",
   "execution_count": 11,
   "id": "cf253adc-09c5-4b83-a831-76b17a249cb7",
   "metadata": {},
   "outputs": [
    {
     "data": {
      "text/plain": [
       "{'spike': 8, 'Jay': 3, 'john': 5}"
      ]
     },
     "execution_count": 11,
     "metadata": {},
     "output_type": "execute_result"
    }
   ],
   "source": [
    "ages ={'spike':8,'Jay':3,'john':5}\n",
    "ages"
   ]
  },
  {
   "cell_type": "code",
   "execution_count": 12,
   "id": "0110793f-44a9-429e-9f66-c1948f7bd44f",
   "metadata": {},
   "outputs": [
    {
     "data": {
      "text/plain": [
       "spike    8\n",
       "Jay      3\n",
       "john     5\n",
       "dtype: int64"
      ]
     },
     "execution_count": 12,
     "metadata": {},
     "output_type": "execute_result"
    }
   ],
   "source": [
    "sgeSer = pd.Series(ages)\n",
    "sgeSer"
   ]
  },
  {
   "cell_type": "code",
   "execution_count": 13,
   "id": "0f7a6d72-378d-4a68-b377-f17313e6f16e",
   "metadata": {},
   "outputs": [],
   "source": [
    "# Imaginary Sales Data for 1st and 2nd Quarters for Global Company\n",
    "q1 = {'Japan': 80, 'China': 450, 'India': 200, 'USA': 250}\n",
    "q2 = {'Brazil': 100,'China': 500, 'India': 210,'USA': 260}"
   ]
  },
  {
   "cell_type": "code",
   "execution_count": 16,
   "id": "76b56aa2-9ef5-4056-aa7c-d37c981173a6",
   "metadata": {},
   "outputs": [
    {
     "data": {
      "text/plain": [
       "Japan     80\n",
       "China    450\n",
       "India    200\n",
       "USA      250\n",
       "dtype: int64"
      ]
     },
     "execution_count": 16,
     "metadata": {},
     "output_type": "execute_result"
    }
   ],
   "source": [
    "sales_q1 = pd.Series(q1)\n",
    "sales_q1"
   ]
  },
  {
   "cell_type": "code",
   "execution_count": 17,
   "id": "18e86e2e-c797-4532-8606-25bd38053052",
   "metadata": {},
   "outputs": [
    {
     "data": {
      "text/plain": [
       "Brazil    100\n",
       "China     500\n",
       "India     210\n",
       "USA       260\n",
       "dtype: int64"
      ]
     },
     "execution_count": 17,
     "metadata": {},
     "output_type": "execute_result"
    }
   ],
   "source": [
    "sales_q2=pd.Series(q2)\n",
    "sales_q2"
   ]
  },
  {
   "cell_type": "code",
   "execution_count": 19,
   "id": "5650c57c-a81f-4ca3-a656-89febb2d9baa",
   "metadata": {},
   "outputs": [
    {
     "data": {
      "text/plain": [
       "80"
      ]
     },
     "execution_count": 19,
     "metadata": {},
     "output_type": "execute_result"
    }
   ],
   "source": [
    "sales_q1[\"Japan\"]"
   ]
  },
  {
   "cell_type": "code",
   "execution_count": 20,
   "id": "5e2a3bd6-cf3d-49f3-a2f4-d64965b0c403",
   "metadata": {},
   "outputs": [
    {
     "data": {
      "text/plain": [
       "Index(['Japan', 'China', 'India', 'USA'], dtype='object')"
      ]
     },
     "execution_count": 20,
     "metadata": {},
     "output_type": "execute_result"
    }
   ],
   "source": [
    "sales_q1.keys()"
   ]
  },
  {
   "cell_type": "code",
   "execution_count": 21,
   "id": "1479402b-7ba3-4ccc-91f2-ad13049f76bf",
   "metadata": {},
   "outputs": [
    {
     "data": {
      "text/plain": [
       "Brazil    100.0\n",
       "China     950.0\n",
       "India     410.0\n",
       "Japan      80.0\n",
       "USA       510.0\n",
       "dtype: float64"
      ]
     },
     "execution_count": 21,
     "metadata": {},
     "output_type": "execute_result"
    }
   ],
   "source": [
    "sales_q1.add(sales_q2,fill_value=0)"
   ]
  },
  {
   "cell_type": "code",
   "execution_count": null,
   "id": "d17550b5-8d8e-4516-a5cd-54a0ad94d739",
   "metadata": {},
   "outputs": [],
   "source": []
  },
  {
   "cell_type": "code",
   "execution_count": null,
   "id": "8b2be394-2741-4b3a-80d6-b924cdb9a14c",
   "metadata": {},
   "outputs": [],
   "source": []
  },
  {
   "cell_type": "code",
   "execution_count": null,
   "id": "9a8fa4c3-863d-4709-83ab-bbb38c6055fe",
   "metadata": {},
   "outputs": [],
   "source": []
  },
  {
   "cell_type": "code",
   "execution_count": null,
   "id": "4593d85a-862c-4073-b953-12dd1c2d57e7",
   "metadata": {},
   "outputs": [],
   "source": []
  },
  {
   "cell_type": "code",
   "execution_count": null,
   "id": "04229398-2b37-4fda-a469-24aa274d3f85",
   "metadata": {},
   "outputs": [],
   "source": []
  },
  {
   "cell_type": "code",
   "execution_count": null,
   "id": "4cd13b05-1061-4a7b-b100-66986bceb46a",
   "metadata": {},
   "outputs": [],
   "source": []
  },
  {
   "cell_type": "code",
   "execution_count": null,
   "id": "4b57e830-b8ce-4f65-9b3e-bcc630a09d26",
   "metadata": {},
   "outputs": [],
   "source": []
  },
  {
   "cell_type": "code",
   "execution_count": null,
   "id": "909577dd-c172-4653-9dbd-bcc29dec1030",
   "metadata": {},
   "outputs": [],
   "source": []
  }
 ],
 "metadata": {
  "kernelspec": {
   "display_name": "Python 3 (ipykernel)",
   "language": "python",
   "name": "python3"
  },
  "language_info": {
   "codemirror_mode": {
    "name": "ipython",
    "version": 3
   },
   "file_extension": ".py",
   "mimetype": "text/x-python",
   "name": "python",
   "nbconvert_exporter": "python",
   "pygments_lexer": "ipython3",
   "version": "3.12.7"
  }
 },
 "nbformat": 4,
 "nbformat_minor": 5
}
