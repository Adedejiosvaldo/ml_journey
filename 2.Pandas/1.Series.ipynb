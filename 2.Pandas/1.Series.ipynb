{
 "cells": [
  {
   "cell_type": "code",
   "execution_count": 3,
   "id": "94386c56-57e1-45d6-9d51-3e7207407caf",
   "metadata": {},
   "outputs": [],
   "source": [
    "import pandas as pd"
   ]
  },
  {
   "cell_type": "code",
   "execution_count": 4,
   "id": "c14ee272-0f0b-498e-991e-6ae7181507f5",
   "metadata": {},
   "outputs": [],
   "source": [
    "myIndex = [\"USA\", \"Canada\",\"Mexico\"]"
   ]
  },
  {
   "cell_type": "code",
   "execution_count": 6,
   "id": "6a3c7d42-77a8-44eb-b8c5-092f9b423296",
   "metadata": {},
   "outputs": [],
   "source": [
    "mydata = [1990,1991,1992]"
   ]
  },
  {
   "cell_type": "code",
   "execution_count": 8,
   "id": "d5ea6eaa-54b3-4648-af1f-d1f642f4d2f0",
   "metadata": {},
   "outputs": [
    {
     "data": {
      "text/plain": [
       "[1990, 1991, 1992]"
      ]
     },
     "execution_count": 8,
     "metadata": {},
     "output_type": "execute_result"
    }
   ],
   "source": [
    "mydata = [1990,1991,1992]\n",
    "mydata"
   ]
  },
  {
   "cell_type": "code",
   "execution_count": 9,
   "id": "6f7a0270-c0d5-4f59-97da-196445a49cc2",
   "metadata": {},
   "outputs": [
    {
     "data": {
      "text/plain": [
       "USA       1990\n",
       "Canada    1991\n",
       "Mexico    1992\n",
       "dtype: int64"
      ]
     },
     "execution_count": 9,
     "metadata": {},
     "output_type": "execute_result"
    }
   ],
   "source": [
    "mySer = pd.Series(data=mydata,index=myIndex)\n",
    "mySer"
   ]
  },
  {
   "cell_type": "markdown",
   "id": "ac68f148-bdde-463f-bd58-93604be35ad5",
   "metadata": {},
   "source": [
    "#### Creating Series from DICT"
   ]
  },
  {
   "cell_type": "code",
   "execution_count": 11,
   "id": "cf253adc-09c5-4b83-a831-76b17a249cb7",
   "metadata": {},
   "outputs": [
    {
     "data": {
      "text/plain": [
       "{'spike': 8, 'Jay': 3, 'john': 5}"
      ]
     },
     "execution_count": 11,
     "metadata": {},
     "output_type": "execute_result"
    }
   ],
   "source": [
    "ages ={'spike':8,'Jay':3,'john':5}\n",
    "ages"
   ]
  },
  {
   "cell_type": "code",
   "execution_count": null,
   "id": "0110793f-44a9-429e-9f66-c1948f7bd44f",
   "metadata": {},
   "outputs": [],
   "source": [
    "sgeSer "
   ]
  },
  {
   "cell_type": "code",
   "execution_count": null,
   "id": "0f7a6d72-378d-4a68-b377-f17313e6f16e",
   "metadata": {},
   "outputs": [],
   "source": []
  },
  {
   "cell_type": "code",
   "execution_count": null,
   "id": "76b56aa2-9ef5-4056-aa7c-d37c981173a6",
   "metadata": {},
   "outputs": [],
   "source": []
  }
 ],
 "metadata": {
  "kernelspec": {
   "display_name": "Python 3 (ipykernel)",
   "language": "python",
   "name": "python3"
  },
  "language_info": {
   "codemirror_mode": {
    "name": "ipython",
    "version": 3
   },
   "file_extension": ".py",
   "mimetype": "text/x-python",
   "name": "python",
   "nbconvert_exporter": "python",
   "pygments_lexer": "ipython3",
   "version": "3.12.7"
  }
 },
 "nbformat": 4,
 "nbformat_minor": 5
}
